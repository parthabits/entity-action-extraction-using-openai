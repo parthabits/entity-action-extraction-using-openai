{
  "nbformat": 4,
  "nbformat_minor": 0,
  "metadata": {
    "colab": {
      "private_outputs": true,
      "provenance": []
    },
    "kernelspec": {
      "name": "python3",
      "display_name": "Python 3"
    },
    "language_info": {
      "name": "python"
    }
  },
  "cells": [
    {
      "cell_type": "markdown",
      "source": [
        "#### Installs -"
      ],
      "metadata": {
        "id": "XNnUFpDFmDqT"
      }
    },
    {
      "cell_type": "code",
      "source": [
        "!pip install openai==0.28"
      ],
      "metadata": {
        "collapsed": true,
        "id": "hGFEYUi1kyHE"
      },
      "execution_count": null,
      "outputs": []
    },
    {
      "cell_type": "markdown",
      "source": [
        "#### openai specific settings -"
      ],
      "metadata": {
        "id": "ZwJSZvtMmQQ9"
      }
    },
    {
      "cell_type": "code",
      "execution_count": null,
      "metadata": {
        "id": "_54D4E_Mf860"
      },
      "outputs": [],
      "source": [
        "import openai\n",
        "\n",
        "openai.api_key=\"\"\n",
        "openai.api_base=\"\"\n",
        "openai.api_type=\"azure\"\n",
        "openai.api_version=\"2023-03-15-preview\"\n",
        "model_name=\"gpt-35-turbo\""
      ]
    },
    {
      "cell_type": "markdown",
      "source": [
        "#### llm/model specific settings -"
      ],
      "metadata": {
        "id": "G9EzT8p6mWWY"
      }
    },
    {
      "cell_type": "code",
      "source": [
        "temperature=0\n",
        "max_tokens=500"
      ],
      "metadata": {
        "id": "NvdCdOCvhO33"
      },
      "execution_count": null,
      "outputs": []
    },
    {
      "cell_type": "markdown",
      "source": [
        "The get_entity_action method uses OpenAI's API to process an input text and an action list. It splits the text into sentences, matches actions from the provided action list, and extracts metadata entities like place, email ID, and things for each sentence. The output is formatted as a combination of the sentence, the identified action, and the extracted entity."
      ],
      "metadata": {
        "id": "Sbl-ddlXmrW0"
      }
    },
    {
      "cell_type": "code",
      "source": [
        "def get_entity_action(input_text, input_action_list):\n",
        "  if input_text is not None:\n",
        "    response=openai.Completion.create(\n",
        "        engine=model_name,\n",
        "        prompt=\"<|im_start|>\"\n",
        "                \"system\\n Extract metadata, like place, email id, things etc....\\n<im_end>\\n\"\n",
        "                \"<|im_start|>\"\n",
        "                f\"\"\"user\\n\n",
        "                    action_list:{input_action_list}\n",
        "                    entity_list:\"Extract metadata, like place, email id, things etc....\"\n",
        "                    Text:{input_text}\n",
        "                    split the input text into sentences and extract action from\n",
        "                    action_list for each sentence in one word.\n",
        "                    extract entities from the entity_list for each sentence in one word.\n",
        "                    return the answer in this format: (\"sentence\":sentence)-(\"action\":action)-(\"entity\":entity)\n",
        "\n",
        "\n",
        "                    \\n<|im_end|>\\n\"\"\"\n",
        "              \"<|im_start|>\"\n",
        "              \"assistant\\n\",\n",
        "        temperature=temperature,\n",
        "        max_tokens=max_tokens,\n",
        "        stop=[\"<|im_end|>\"]\n",
        "    )\n",
        "    return response['choices'][0]['text']\n",
        "  else:\n",
        "    return 'Valid text need to be passed'\n"
      ],
      "metadata": {
        "id": "9WjOqWfEgo_a"
      },
      "execution_count": null,
      "outputs": []
    },
    {
      "cell_type": "markdown",
      "source": [
        "#### Execution -"
      ],
      "metadata": {
        "id": "O4Ub2m2Umtki"
      }
    },
    {
      "cell_type": "code",
      "source": [
        "input_text=\"Alice booked a hotel in Paris and shared the details via alice@example.com. She also mentioned bringing a camera for the trip.\"\n",
        "input_action_list = [\"book\", \"share\", \"mention\", \"bring\"]\n",
        "print(get_entity_action(input_text, input_action_list))\n"
      ],
      "metadata": {
        "collapsed": true,
        "id": "GkD6D3WzjuzT"
      },
      "execution_count": null,
      "outputs": []
    },
    {
      "cell_type": "code",
      "source": [],
      "metadata": {
        "id": "XDaFQ2yykuHp"
      },
      "execution_count": null,
      "outputs": []
    }
  ]
}